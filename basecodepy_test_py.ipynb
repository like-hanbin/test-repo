{
  "nbformat": 4,
  "nbformat_minor": 0,
  "metadata": {
    "colab": {
      "provenance": [],
      "authorship_tag": "ABX9TyMgBL7h8FMAnZ+Ges3fH2Ya",
      "include_colab_link": true
    },
    "kernelspec": {
      "name": "python3",
      "display_name": "Python 3"
    },
    "language_info": {
      "name": "python"
    }
  },
  "cells": [
    {
      "cell_type": "markdown",
      "metadata": {
        "id": "view-in-github",
        "colab_type": "text"
      },
      "source": [
        "<a href=\"https://colab.research.google.com/github/like-hanbin/test-repo/blob/main/basecodepy_test_py.ipynb\" target=\"_parent\"><img src=\"https://colab.research.google.com/assets/colab-badge.svg\" alt=\"Open In Colab\"/></a>"
      ]
    },
    {
      "cell_type": "code",
      "execution_count": null,
      "metadata": {
        "id": "YywG7C4NEYGy"
      },
      "outputs": [],
      "source": [
        "#py 확장자로 테스트 - 베이스코드\n",
        "\n",
        "\n",
        "\n",
        "889ㅇ0ㄴㄹ8ㅇ9ㄴ0ㅁㄹ89ㅇㄴ0ㅁ89ㄹㅇㅁㄹㅇ"
      ]
    }
  ]
}