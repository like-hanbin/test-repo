{
  "nbformat": 4,
  "nbformat_minor": 0,
  "metadata": {
    "colab": {
      "provenance": [],
      "include_colab_link": true
    },
    "kernelspec": {
      "name": "python3",
      "display_name": "Python 3"
    },
    "language_info": {
      "name": "python"
    }
  },
  "cells": [
    {
      "cell_type": "markdown",
      "metadata": {
        "id": "view-in-github",
        "colab_type": "text"
      },
      "source": [
        "<a href=\"https://colab.research.google.com/github/like-hanbin/test-repo/blob/main/basecode_test.ipynb\" target=\"_parent\"><img src=\"https://colab.research.google.com/assets/colab-badge.svg\" alt=\"Open In Colab\"/></a>"
      ]
    },
    {
      "cell_type": "code",
      "execution_count": 1,
      "metadata": {
        "id": "EIvXRHJqBGHJ",
        "outputId": "4b60126b-0a02-47cc-8cad-a26006fba25f",
        "colab": {
          "base_uri": "https://localhost:8080/"
        }
      },
      "outputs": [
        {
          "output_type": "stream",
          "name": "stdout",
          "text": [
            "이렇게 편집을 하겠죠\n",
            "학생들이 이렇게 편집을 합니다\n"
          ]
        }
      ],
      "source": [
        "# 강사가 제공하는 베이스 코드\n",
        "\n",
        "print(\"이렇게 편집을 하겠죠\")\n",
        "print(\"학생들이 이렇게 편집을 합니다\")"
      ]
    }
  ]
}