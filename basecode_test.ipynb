{
  "nbformat": 4,
  "nbformat_minor": 0,
  "metadata": {
    "colab": {
      "provenance": []
    },
    "kernelspec": {
      "name": "python3",
      "display_name": "Python 3"
    },
    "language_info": {
      "name": "python"
    }
  },
  "cells": [
    {
      "cell_type": "code",
      "execution_count": null,
      "metadata": {
        "id": "EIvXRHJqBGHJ"
      },
      "outputs": [],
      "source": [
        "# 강사가 제공하는 베이스 코드"
      ]
    }
  ]
}